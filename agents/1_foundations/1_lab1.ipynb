{
 "cells": [
  {
   "cell_type": "markdown",
   "metadata": {},
   "source": [
    "# Welcome to the start of your adventure in Agentic AI"
   ]
  },
  {
   "cell_type": "markdown",
   "metadata": {},
   "source": [
    "<table style=\"margin: 0; text-align: left; width:100%\">\n",
    "    <tr>\n",
    "        <td style=\"width: 150px; height: 150px; vertical-align: middle;\">\n",
    "            <img src=\"../assets/stop.png\" width=\"150\" height=\"150\" style=\"display: block;\" />\n",
    "        </td>\n",
    "        <td>\n",
    "            <h2 style=\"color:#ff7800;\">Are you ready for action??</h2>\n",
    "            <span style=\"color:#ff7800;\">Have you completed all the setup steps in the <a href=\"../setup/\">setup</a> folder?<br/>\n",
    "            Have you read the <a href=\"../README.md\">README</a>? Many common questions are answered here!<br/>\n",
    "            Have you checked out the guides in the <a href=\"../guides/01_intro.ipynb\">guides</a> folder?<br/>\n",
    "            Well in that case, you're ready!!\n",
    "            </span>\n",
    "        </td>\n",
    "    </tr>\n",
    "</table>"
   ]
  },
  {
   "cell_type": "markdown",
   "metadata": {},
   "source": [
    "<table style=\"margin: 0; text-align: left; width:100%\">\n",
    "    <tr>\n",
    "        <td style=\"width: 150px; height: 150px; vertical-align: middle;\">\n",
    "            <img src=\"../assets/tools.png\" width=\"150\" height=\"150\" style=\"display: block;\" />\n",
    "        </td>\n",
    "        <td>\n",
    "            <h2 style=\"color:#00bfff;\">This code is a live resource - keep an eye out for my updates</h2>\n",
    "            <span style=\"color:#00bfff;\">I push updates regularly. As people ask questions or have problems, I add more examples and improve explanations. As a result, the code below might not be identical to the videos, as I've added more steps and better comments. Consider this like an interactive book that accompanies the lectures.<br/><br/>\n",
    "            I try to send emails regularly with important updates related to the course. You can find this in the 'Announcements' section of Udemy in the left sidebar. You can also choose to receive my emails via your Notification Settings in Udemy. I'm respectful of your inbox and always try to add value with my emails!\n",
    "            </span>\n",
    "        </td>\n",
    "    </tr>\n",
    "</table>"
   ]
  },
  {
   "cell_type": "markdown",
   "metadata": {},
   "source": [
    "### And please do remember to contact me if I can help\n",
    "\n",
    "And I love to connect: https://www.linkedin.com/in/eddonner/\n",
    "\n",
    "\n",
    "### New to Notebooks like this one? Head over to the guides folder!\n",
    "\n",
    "Just to check you've already added the Python and Jupyter extensions to Cursor, if not already installed:\n",
    "- Open extensions (View >> extensions)\n",
    "- Search for python, and when the results show, click on the ms-python one, and Install it if not already installed\n",
    "- Search for jupyter, and when the results show, click on the Microsoft one, and Install it if not already installed  \n",
    "Then View >> Explorer to bring back the File Explorer.\n",
    "\n",
    "And then:\n",
    "1. Click where it says \"Select Kernel\" near the top right, and select the option called `.venv (Python 3.12.9)` or similar, which should be the first choice or the most prominent choice. You may need to choose \"Python Environments\" first.\n",
    "2. Click in each \"cell\" below, starting with the cell immediately below this text, and press Shift+Enter to run\n",
    "3. Enjoy!\n",
    "\n",
    "After you click \"Select Kernel\", if there is no option like `.venv (Python 3.12.9)` then please do the following:  \n",
    "1. On Mac: From the Cursor menu, choose Settings >> VS Code Settings (NOTE: be sure to select `VSCode Settings` not `Cursor Settings`);  \n",
    "On Windows PC: From the File menu, choose Preferences >> VS Code Settings(NOTE: be sure to select `VSCode Settings` not `Cursor Settings`)  \n",
    "2. In the Settings search bar, type \"venv\"  \n",
    "3. In the field \"Path to folder with a list of Virtual Environments\" put the path to the project root, like C:\\Users\\username\\projects\\agents (on a Windows PC) or /Users/username/projects/agents (on Mac or Linux).  \n",
    "And then try again.\n",
    "\n",
    "Having problems with missing Python versions in that list? Have you ever used Anaconda before? It might be interferring. Quit Cursor, bring up a new command line, and make sure that your Anaconda environment is deactivated:    \n",
    "`conda deactivate`  \n",
    "And if you still have any problems with conda and python versions, it's possible that you will need to run this too:  \n",
    "`conda config --set auto_activate_base false`  \n",
    "and then from within the Agents directory, you should be able to run `uv python list` and see the Python 3.12 version."
   ]
  },
  {
   "cell_type": "code",
   "execution_count": 3,
   "metadata": {},
   "outputs": [],
   "source": [
    "# First let's do an import. If you get an Import Error, double check that your Kernel is correct..\n",
    "\n",
    "from dotenv import load_dotenv\n"
   ]
  },
  {
   "cell_type": "code",
   "execution_count": 4,
   "metadata": {},
   "outputs": [
    {
     "data": {
      "text/plain": [
       "True"
      ]
     },
     "execution_count": 4,
     "metadata": {},
     "output_type": "execute_result"
    }
   ],
   "source": [
    "# Next it's time to load the API keys into environment variables\n",
    "# If this returns false, see the next cell!\n",
    "\n",
    "load_dotenv(override=True)"
   ]
  },
  {
   "cell_type": "markdown",
   "metadata": {},
   "source": [
    "### Wait, did that just output `False`??\n",
    "\n",
    "If so, the most common reason is that you didn't save your `.env` file after adding the key! Be sure to have saved.\n",
    "\n",
    "Also, make sure the `.env` file is named precisely `.env` and is in the project root directory (`agents`)\n",
    "\n",
    "By the way, your `.env` file should have a stop symbol next to it in Cursor on the left, and that's actually a good thing: that's Cursor saying to you, \"hey, I realize this is a file filled with secret information, and I'm not going to send it to an external AI to suggest changes, because your keys should not be shown to anyone else.\""
   ]
  },
  {
   "cell_type": "markdown",
   "metadata": {},
   "source": [
    "<table style=\"margin: 0; text-align: left; width:100%\">\n",
    "    <tr>\n",
    "        <td style=\"width: 150px; height: 150px; vertical-align: middle;\">\n",
    "            <img src=\"../assets/stop.png\" width=\"150\" height=\"150\" style=\"display: block;\" />\n",
    "        </td>\n",
    "        <td>\n",
    "            <h2 style=\"color:#ff7800;\">Final reminders</h2>\n",
    "            <span style=\"color:#ff7800;\">1. If you're not confident about Environment Variables or Web Endpoints / APIs, please read Topics 3 and 5 in this <a href=\"../guides/04_technical_foundations.ipynb\">technical foundations guide</a>.<br/>\n",
    "            2. If you want to use AIs other than OpenAI, like Gemini, DeepSeek or Ollama (free), please see the first section in this <a href=\"../guides/09_ai_apis_and_ollama.ipynb\">AI APIs guide</a>.<br/>\n",
    "            3. If you ever get a Name Error in Python, you can always fix it immediately; see the last section of this <a href=\"../guides/06_python_foundations.ipynb\">Python Foundations guide</a> and follow both tutorials and exercises.<br/>\n",
    "            </span>\n",
    "        </td>\n",
    "    </tr>\n",
    "</table>"
   ]
  },
  {
   "cell_type": "code",
   "execution_count": 5,
   "metadata": {},
   "outputs": [
    {
     "name": "stdout",
     "output_type": "stream",
     "text": [
      "OpenAI API Key exists and begins sk-proj-0gzjRCm\n"
     ]
    }
   ],
   "source": [
    "# Check the key - if you're not using OpenAI, check whichever key you're using! Ollama doesn't need a key.\n",
    "\n",
    "import os\n",
    "openai_api_key = os.getenv('OPENAI_API_KEY')\n",
    "\n",
    "if openai_api_key:\n",
    "    print(f\"OpenAI API Key exists and begins {openai_api_key[:15]}\")\n",
    "else:\n",
    "    print(\"OpenAI API Key not set - please head to the troubleshooting guide in the setup folder\")\n",
    "    \n"
   ]
  },
  {
   "cell_type": "code",
   "execution_count": 6,
   "metadata": {},
   "outputs": [],
   "source": [
    "# And now - the all important import statement\n",
    "# If you get an import error - head over to troubleshooting in the Setup folder\n",
    "\n",
    "from openai import OpenAI"
   ]
  },
  {
   "cell_type": "code",
   "execution_count": 7,
   "metadata": {},
   "outputs": [],
   "source": [
    "# And now we'll create an instance of the OpenAI class\n",
    "# If you're not sure what it means to create an instance of a class - head over to the guides folder (guide 6)!\n",
    "# If you get a NameError - head over to the guides folder (guide 6)to learn about NameErrors - always instantly fixable\n",
    "# If you're not using OpenAI, you just need to slightly modify this - precise instructions are in the AI APIs guide (guide 9)\n",
    "\n",
    "openai = OpenAI()"
   ]
  },
  {
   "cell_type": "code",
   "execution_count": 7,
   "metadata": {},
   "outputs": [],
   "source": [
    "# Create a list of messages in the familiar OpenAI format\n",
    "\n",
    "messages = [{\"role\": \"user\", \"content\": \"What is 2+2?\"}]"
   ]
  },
  {
   "cell_type": "code",
   "execution_count": 8,
   "metadata": {},
   "outputs": [
    {
     "name": "stdout",
     "output_type": "stream",
     "text": [
      "2 + 2 equals 4.\n"
     ]
    }
   ],
   "source": [
    "# And now call it! Any problems, head to the troubleshooting guide\n",
    "# This uses GPT 4.1 nano, the incredibly cheap model\n",
    "# The APIs guide (guide 9) has exact instructions for using even cheaper or free alternatives to OpenAI\n",
    "# If you get a NameError, head to the guides folder (guide 6) to learn about NameErrors - always instantly fixable\n",
    "\n",
    "response = openai.chat.completions.create(\n",
    "    model=\"gpt-4.1-nano\",\n",
    "    messages=messages\n",
    ")\n",
    "\n",
    "print(response.choices[0].message.content)\n"
   ]
  },
  {
   "cell_type": "code",
   "execution_count": 9,
   "metadata": {},
   "outputs": [],
   "source": [
    "# And now - let's ask for a question:\n",
    "\n",
    "question = \"Please propose a hard, challenging question to assess someone's IQ. Respond only with the question.\"\n",
    "messages = [{\"role\": \"user\", \"content\": question}]\n"
   ]
  },
  {
   "cell_type": "code",
   "execution_count": 10,
   "metadata": {},
   "outputs": [
    {
     "name": "stdout",
     "output_type": "stream",
     "text": [
      "If it takes 5 machines 5 minutes to make 5 widgets, how long would it take 100 machines to make 100 widgets?\n"
     ]
    }
   ],
   "source": [
    "# ask it - this uses GPT 4.1 mini, still cheap but more powerful than nano\n",
    "\n",
    "response = openai.chat.completions.create(\n",
    "    model=\"gpt-4.1-mini\",\n",
    "    messages=messages\n",
    ")\n",
    "\n",
    "question = response.choices[0].message.content\n",
    "\n",
    "print(question)\n"
   ]
  },
  {
   "cell_type": "code",
   "execution_count": 11,
   "metadata": {},
   "outputs": [],
   "source": [
    "# form a new messages list\n",
    "messages = [{\"role\": \"user\", \"content\": question}]\n"
   ]
  },
  {
   "cell_type": "code",
   "execution_count": 12,
   "metadata": {},
   "outputs": [
    {
     "name": "stdout",
     "output_type": "stream",
     "text": [
      "Let's analyze the problem step-by-step:\n",
      "\n",
      "**Given:**\n",
      "- 5 machines take 5 minutes to make 5 widgets.\n",
      "\n",
      "**Step 1: Find the rate of one machine.**\n",
      "\n",
      "If 5 machines make 5 widgets in 5 minutes, then:\n",
      "\n",
      "- In 5 minutes, 5 machines → 5 widgets\n",
      "- So, in 5 minutes, 1 machine → 1 widget (because 5 machines produce 5 widgets, that implies each machine makes 1 widget in 5 minutes)\n",
      "\n",
      "Thus, **rate of 1 machine** = 1 widget per 5 minutes.\n",
      "\n",
      "**Step 2: Calculate how long 100 machines take to make 100 widgets.**\n",
      "\n",
      "Since each machine takes 5 minutes to make 1 widget:\n",
      "\n",
      "- If we have 100 machines working simultaneously, each will produce 1 widget in 5 minutes.\n",
      "- So 100 machines will produce 100 widgets in 5 minutes.\n",
      "\n",
      "**Answer:**\n",
      "\n",
      "It will take **5 minutes** for 100 machines to make 100 widgets.\n"
     ]
    }
   ],
   "source": [
    "# Ask it again\n",
    "\n",
    "response = openai.chat.completions.create(\n",
    "    model=\"gpt-4.1-mini\",\n",
    "    messages=messages\n",
    ")\n",
    "\n",
    "answer = response.choices[0].message.content\n",
    "print(answer)\n"
   ]
  },
  {
   "cell_type": "code",
   "execution_count": 13,
   "metadata": {},
   "outputs": [
    {
     "data": {
      "text/markdown": [
       "Let's analyze the problem step-by-step:\n",
       "\n",
       "**Given:**\n",
       "- 5 machines take 5 minutes to make 5 widgets.\n",
       "\n",
       "**Step 1: Find the rate of one machine.**\n",
       "\n",
       "If 5 machines make 5 widgets in 5 minutes, then:\n",
       "\n",
       "- In 5 minutes, 5 machines → 5 widgets\n",
       "- So, in 5 minutes, 1 machine → 1 widget (because 5 machines produce 5 widgets, that implies each machine makes 1 widget in 5 minutes)\n",
       "\n",
       "Thus, **rate of 1 machine** = 1 widget per 5 minutes.\n",
       "\n",
       "**Step 2: Calculate how long 100 machines take to make 100 widgets.**\n",
       "\n",
       "Since each machine takes 5 minutes to make 1 widget:\n",
       "\n",
       "- If we have 100 machines working simultaneously, each will produce 1 widget in 5 minutes.\n",
       "- So 100 machines will produce 100 widgets in 5 minutes.\n",
       "\n",
       "**Answer:**\n",
       "\n",
       "It will take **5 minutes** for 100 machines to make 100 widgets."
      ],
      "text/plain": [
       "<IPython.core.display.Markdown object>"
      ]
     },
     "metadata": {},
     "output_type": "display_data"
    }
   ],
   "source": [
    "from IPython.display import Markdown, display\n",
    "\n",
    "display(Markdown(answer))\n",
    "\n"
   ]
  },
  {
   "cell_type": "markdown",
   "metadata": {},
   "source": [
    "# Congratulations!\n",
    "\n",
    "That was a small, simple step in the direction of Agentic AI, with your new environment!\n",
    "\n",
    "Next time things get more interesting..."
   ]
  },
  {
   "cell_type": "markdown",
   "metadata": {},
   "source": [
    "<table style=\"margin: 0; text-align: left; width:100%\">\n",
    "    <tr>\n",
    "        <td style=\"width: 150px; height: 150px; vertical-align: middle;\">\n",
    "            <img src=\"../assets/exercise.png\" width=\"150\" height=\"150\" style=\"display: block;\" />\n",
    "        </td>\n",
    "        <td>\n",
    "            <h2 style=\"color:#ff7800;\">Exercise</h2>\n",
    "            <span style=\"color:#ff7800;\">Now try this commercial application:<br/>\n",
    "            First ask the LLM to pick a business area that might be worth exploring for an Agentic AI opportunity.<br/>\n",
    "            Then ask the LLM to present a pain-point in that industry - something challenging that might be ripe for an Agentic solution.<br/>\n",
    "            Finally have 3 third LLM call propose the Agentic AI solution. <br/>\n",
    "            We will cover this at up-coming labs, so don't worry if you're unsure.. just give it a try!\n",
    "            </span>\n",
    "        </td>\n",
    "    </tr>\n",
    "</table>"
   ]
  },
  {
   "cell_type": "code",
   "execution_count": 8,
   "metadata": {},
   "outputs": [
    {
     "name": "stdout",
     "output_type": "stream",
     "text": [
      "A compelling business area to explore for implementing agentic AI to enhance workflow automation and efficiency is **Supply Chain Management and Logistics**.\n",
      "\n",
      "**Why Supply Chain Management?**\n",
      "\n",
      "- **Complexity and Dynamic Environment:** Managing inventory, shipments, warehousing, and demand forecasting involves complex, real-time decision-making that benefits from adaptive AI agents.\n",
      "- **Data Integration:** Supply chains generate vast amounts of data across different systems and stakeholders. Agentic AI can synthesize this data to optimize routing, inventory levels, and procurement.\n",
      "- **Process Automation:** Automating order processing, shipment scheduling, and problem resolution reduces delays and human error.\n",
      "- **Predictive Capabilities:** AI agents can forecast demand fluctuations, identify potential disruptions, and proactively suggest mitigations.\n",
      "- **Cost and Efficiency Gains:** Streamlining operations leads to reduced costs, faster delivery times, and improved customer satisfaction.\n",
      "\n",
      "**Potential Applications:**\n",
      "\n",
      "- Autonomous negotiation with suppliers for procurement.\n",
      "- Dynamic rerouting of shipments based on real-time traffic and weather data.\n",
      "- Automated inventory replenishment decisions.\n",
      "- Real-time tracking and problem resolution across the supply chain.\n",
      "\n",
      "By deploying agentic AI in supply chain management, organizations can achieve higher levels of automation, responsiveness, and strategic decision-making, significantly boosting overall operational efficiency.\n"
     ]
    }
   ],
   "source": [
    "# First create the messages:\n",
    "\n",
    "idea = \"Pick a business area that might be worth exploring agentic AI to solve problems in workflow automoation and efficiency\"\n",
    "messages = [{\"role\": \"user\", \"content\": idea}]\n",
    "\n",
    "# Then make the first call:\n",
    "\n",
    "response = openai.chat.completions.create(\n",
    "    model=\"gpt-4.1-nano\",\n",
    "    messages=messages\n",
    ")\n",
    "\n",
    "# Then read the business idea:\n",
    "\n",
    "business_idea = response.choices[0].message.content\n",
    "\n",
    "# And repeat! In the next message, include the business idea within the message\n",
    "\n",
    "print(business_idea)"
   ]
  },
  {
   "cell_type": "code",
   "execution_count": null,
   "metadata": {},
   "outputs": [
    {
     "name": "stdout",
     "output_type": "stream",
     "text": [
      "A significant pain point in Supply Chain Management that can be effectively addressed through agentic AI is **Proactive Disruption Prediction and Mitigation**.\n",
      "\n",
      "**The Challenge:**\n",
      "Supply chains are highly susceptible to unexpected disruptions such as delays caused by weather conditions, transportation strikes, supplier outages, or geopolitical issues. Currently, many organizations rely on reactive responses, which can lead to delays, increased costs, and customer dissatisfaction.\n",
      "\n",
      "**How Agentic AI Provides a Solution:**\n",
      "Agentic AI can continuously monitor diverse, real-time data sources—such as weather forecasts, transportation logs, news feeds, and supplier statuses—and autonomously predict potential disruptions well before they impact operations. These intelligent agents can then proactively initiate mitigation actions, like rerouting shipments, adjusting inventory levels, or negotiating alternative supplier agreements.\n",
      "\n",
      "**Benefits:**\n",
      "- **Enhanced Resilience:** Automating early warning and response reduces downtime and operational shocks.\n",
      "- **Cost Savings:** Avoiding delays minimizes penalties and surplus inventory costs.\n",
      "- **Improved Customer Satisfaction:** More reliable delivery schedules increase trust and loyalty.\n",
      "- **Operational Efficiency:** Reduces the need for manual monitoring and decision-making, freeing human resources for strategic tasks.\n",
      "\n",
      "By deploying agentic AI to forecast and address supply chain disruptions proactively, organizations can transform their supply chain operations from reactive to highly anticipatory and autonomous, greatly enhancing resilience and efficiency.\n"
     ]
    }
   ],
   "source": [
    "agentic_ai_task = f\"Present a pain point that can be solved with agentic AI in the exploration: {business_idea}\"\n",
    "\n",
    "messages = [{\"role\": \"user\", \"content\": agentic_ai_task}]\n",
    "\n",
    "response = openai.chat.completions.create(\n",
    "    model=\"gpt-4.1-nano\",\n",
    "    messages=messages\n",
    ")\n",
    "\n",
    "pain_point = response.choices[0].message.content\n",
    "\n",
    "print(pain_point)"
   ]
  },
  {
   "cell_type": "code",
   "execution_count": 13,
   "metadata": {},
   "outputs": [
    {
     "data": {
      "text/markdown": [
       "Elaborated Agentic AI Solution for Proactive Disruption Prediction and Mitigation in Supply Chain Management\n",
       "\n",
       "---\n",
       "\n",
       "### **1. Overview and Objective**\n",
       "\n",
       "The goal is to develop an autonomous, agentic AI system capable of continuously monitoring, predicting, and mitigating supply chain disruptions in real-time. This system should shift the supply chain from reactive to proactive, minimizing delays, reducing costs, and enhancing customer satisfaction.\n",
       "\n",
       "---\n",
       "\n",
       "### **2. Current State (Before Implementation)**\n",
       "\n",
       "- **Reactive Operations:** Supply chain teams respond to disruptions after they occur.\n",
       "- **Limited Data Integration:** Disparate data sources hinder comprehensive situational awareness.\n",
       "- **Manual Monitoring:** Heavy reliance on manual data gathering and alert processing.\n",
       "- **Delayed Responses:** Responses often come too late to prevent impact.\n",
       "- **Operational Inefficiencies:** Increased costs, customer dissatisfaction, and strained human resources.\n",
       "\n",
       "---\n",
       "\n",
       "### **3. Target State (After Implementation)**\n",
       "\n",
       "- **Autonomous Monitoring and Prediction:** Continuous, real-time data ingestion and analysis produce early warning signals.\n",
       "- **Proactive Decision-Making:** The AI agents autonomously evaluate risks and determine mitigation strategies.\n",
       "- **Autonomous Action Initiation:** Execution of mitigation plans (e.g., rerouting, supplier negotiation) without human intervention, with options for oversight.\n",
       "- **Enhanced Resilience:** Reduced disruption impacts, improved service levels, and operational efficiency.\n",
       "\n",
       "---\n",
       "\n",
       "### **4. Technical Stack**\n",
       "\n",
       "| Layer | Components | Description |\n",
       "|---|---|---|\n",
       "| **Data Sources** | Weather APIs, Transportation Logs (RFID, GPS trackers), News Feeds (RSS, APIs), Supplier Status Platforms, Social Media, Geopolitical Data | Real-time and historical data for comprehensive situational awareness |\n",
       "| **Data Ingestion & Storage** | Apache Kafka, AWS Kinesis, Data Lakes (AWS S3, Azure Blob Storage) | Streaming and batch data ingestion, scalable storage infrastructure |\n",
       "| **Data Processing & Analytics** | Apache Spark, Flink, AWS Glue | Data cleaning, transformation, feature extraction |\n",
       "| **Machine Learning & Predictive Models** | TensorFlow, PyTorch, scikit-learn | Forecasting models for weather, transportation delays, supplier risk scoring |\n",
       "| **Agent Framework & Orchestration** | Rasa, Microsoft Bot Framework, custom multi-agent system (MAS) architecture | Autonomous agents capable of reasoning, planning, and action execution |\n",
       "| **Decision & Action Modules** | Robotic Process Automation (UiPath, Automation Anywhere), Custom APIs | Triggering mitigation actions like rerouting or negotiating |\n",
       "| **Communication & Control Layer** | API Gateways, Message Queues, Dashboard & Alerts (Grafana, Power BI) | Communication with human operators and monitoring dashboards |\n",
       "\n",
       "---\n",
       "\n",
       "### **5. Tasks & Implementation Workflow**\n",
       "\n",
       "#### **Phase 1: Data Integration & Infrastructure Setup**\n",
       "- Integrate real-time data feeds (weather, logistics, news).\n",
       "- Set up scalable data storage.\n",
       "- Establish data pipelines.\n",
       "\n",
       "#### **Phase 2: Predictive Modeling & Risk Assessment**\n",
       "- Develop and validate models for:\n",
       "  - Weather disruption forecasts.\n",
       "  - Transportation delays.\n",
       "  - Supplier risk scoring.\n",
       "- Deploy models in the data processing pipeline.\n",
       "\n",
       "#### **Phase 3: Agent Design & Deployment**\n",
       "- Develop autonomous agents with specific roles:\n",
       "  - *Disruption Prediction Agent*: continuously assesses data to identify potential disruptions.\n",
       "  - *Mitigation Planning Agent*: devises response strategies based on predicted risks.\n",
       "  - *Execution Agent*: autonomously initiates mitigation actions (rerouting, supplier negotiations).\n",
       "- Implement multi-agent orchestration for coordinated responses.\n",
       "\n",
       "#### **Phase 4: Automation & Response Mechanisms**\n",
       "- Integrate with existing supply chain management systems.\n",
       "- Automate operational responses and communication.\n",
       "- Establish human oversight protocols for decision approval.\n",
       "\n",
       "#### **Phase 5: Testing, Validation, and Scaling**\n",
       "- Pilot in controlled environments.\n",
       "- Refine models and agent behaviors.\n",
       "- Gradually expand to full-scale deployment across supply chain operations.\n",
       "\n",
       "---\n",
       "\n",
       "### **6. Order of Implementation**\n",
       "1. Infrastructure & Data Acquisition\n",
       "2. Predictive Model Development\n",
       "3. Autonomous Agent Framework Design\n",
       "4. Integration & Automation of Mitigation Actions\n",
       "5. Monitoring, Feedback, and Optimization\n",
       "\n",
       "---\n",
       "\n",
       "### **7. Changes in State Post-Implementation**\n",
       "\n",
       "**Before:**\n",
       "- Reliance on manual monitoring and reactive responses.\n",
       "- Disruptions often identified after impact.\n",
       "- Higher operational costs and customer dissatisfaction.\n",
       "\n",
       "**After:**\n",
       "- Continuous, autonomous detection of risks.\n",
       "- Proactive mitigation initiated automatically.\n",
       "- Increased supply chain resilience and efficiency.\n",
       "- Reduced manual workload and strategic focus for human teams.\n",
       "\n",
       "---\n",
       "\n",
       "### **8. Additional Considerations**\n",
       "- **Ethical & Compliance:** Ensure AI actions comply with legal standards, especially in negotiations.\n",
       "- **Data Privacy & Security:** Protect sensitive data streams.\n",
       "- **Human Oversight:** Incorporate review points to validate AI decisions.\n",
       "- **Continuous Learning:** Implement feedback loops for model improvements based on outcomes.\n",
       "\n",
       "---\n",
       "\n",
       "### **Summary**\n",
       "\n",
       "By deploying an agentic AI ecosystem integrated with real-time data, machine learning models, and autonomous agents, supply chains can achieve unprecedented levels of resilience. The system will not only forecast disruptions early but also autonomously implement mitigation strategies, transforming supply chain management into a highly anticipatory and adaptive operation.\n",
       "\n",
       "---\n",
       "\n",
       "**End of Solution**"
      ],
      "text/plain": [
       "<IPython.core.display.Markdown object>"
      ]
     },
     "execution_count": 13,
     "metadata": {},
     "output_type": "execute_result"
    }
   ],
   "source": [
    "agentic_ai_solution = f\"Present an elaborated agentic AI solution to the pain point in the exploration: {pain_point}. Make sure to define tech stack, tasks to be accomplished and if possible define in which order. Lastly define the before and after state of project when agentic AI is implemented. Feel free to add any other details that you think are relevant.\"\n",
    "\n",
    "messages = [{\"role\": \"user\", \"content\": agentic_ai_solution}]\n",
    "\n",
    "response = openai.chat.completions.create(\n",
    "    model=\"gpt-4.1-nano\",\n",
    "    messages=messages\n",
    ")\n",
    "\n",
    "agentic_ai_solution = response.choices[0].message.content\n",
    "\n",
    "# print(agentic_ai_solution)\n",
    "\n",
    "from IPython.display import Markdown\n",
    "\n",
    "Markdown(agentic_ai_solution)"
   ]
  },
  {
   "cell_type": "code",
   "execution_count": null,
   "metadata": {},
   "outputs": [],
   "source": []
  }
 ],
 "metadata": {
  "kernelspec": {
   "display_name": ".venv",
   "language": "python",
   "name": "python3"
  },
  "language_info": {
   "codemirror_mode": {
    "name": "ipython",
    "version": 3
   },
   "file_extension": ".py",
   "mimetype": "text/x-python",
   "name": "python",
   "nbconvert_exporter": "python",
   "pygments_lexer": "ipython3",
   "version": "3.12.5"
  }
 },
 "nbformat": 4,
 "nbformat_minor": 2
}
